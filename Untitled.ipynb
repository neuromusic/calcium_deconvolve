{
 "cells": [
  {
   "cell_type": "code",
   "execution_count": 1,
   "metadata": {},
   "outputs": [],
   "source": [
    "from allensdk.core.brain_observatory_cache import BrainObservatoryCache\n",
    "\n",
    "oeid = 501474098\n",
    "\n",
    "# Initializations:\n",
    "boc = BrainObservatoryCache()\n",
    "nwb_dataset = boc.get_ophys_experiment_data(oeid)\n",
    "\n",
    "# Get Data:\n",
    "metadata = nwb_dataset.get_metadata()\n",
    "timestamps, dff = nwb_dataset.get_dff_traces()\n"
   ]
  }
 ],
 "metadata": {
  "kernelspec": {
   "display_name": "swdb",
   "language": "python",
   "name": "swdb"
  },
  "language_info": {
   "codemirror_mode": {
    "name": "ipython",
    "version": 2
   },
   "file_extension": ".py",
   "mimetype": "text/x-python",
   "name": "python",
   "nbconvert_exporter": "python",
   "pygments_lexer": "ipython2",
   "version": "2.7.13"
  }
 },
 "nbformat": 4,
 "nbformat_minor": 2
}
