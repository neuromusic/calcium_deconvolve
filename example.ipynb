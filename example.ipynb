{
 "cells": [
  {
   "cell_type": "code",
   "execution_count": 1,
   "metadata": {},
   "outputs": [],
   "source": [
    "from allensdk.core.brain_observatory_cache import BrainObservatoryCache\n",
    "\n",
    "oeid = 501474098\n",
    "\n",
    "# Initializations:\n",
    "boc = BrainObservatoryCache()\n",
    "nwb_dataset = boc.get_ophys_experiment_data(oeid)\n",
    "\n",
    "# Get Data:\n",
    "metadata = nwb_dataset.get_metadata()\n",
    "timestamps, dff = nwb_dataset.get_dff_traces()"
   ]
  },
  {
   "cell_type": "code",
   "execution_count": null,
   "metadata": {},
   "outputs": [],
   "source": [
    "from oasis.functions import deconvolve"
   ]
  },
  {
   "cell_type": "code",
   "execution_count": null,
   "metadata": {},
   "outputs": [
    {
     "name": "stderr",
     "output_type": "stream",
     "text": [
      "/local1/miniconda2/envs/pnnl/lib/python2.7/site-packages/scipy/signal/spectral.py:1633: UserWarning: nperseg = 256 is greater than input length  = 108, using nperseg = 108\n",
      "  .format(nperseg, input_length))\n"
     ]
    }
   ],
   "source": [
    "import numpy as np\n",
    "\n",
    "def extract_events(fluorescence):\n",
    "\n",
    "    events = np.apply_along_axis(\n",
    "        lambda trace: deconvolve(trace,g=(None,None),penalty=1)[1],\n",
    "        axis=0,\n",
    "        arr=fluorescence.astype(np.double),\n",
    "    )\n",
    "    return events\n",
    "\n",
    "events = extract_events(dff)"
   ]
  },
  {
   "cell_type": "code",
   "execution_count": null,
   "metadata": {},
   "outputs": [],
   "source": [
    "%matplotlib inline\n",
    "import matplotlib.pyplot as plt"
   ]
  },
  {
   "cell_type": "code",
   "execution_count": null,
   "metadata": {},
   "outputs": [],
   "source": [
    "ii = 1\n",
    "\n",
    "w = 36500,38000\n",
    "\n",
    "plt.plot(timestamps[w[0]:w[1]],dff[ii,w[0]:w[1]])\n",
    "plt.figure()\n",
    "plt.plot(timestamps[w[0]:w[1]],events[ii,w[0]:w[1]],color='g')\n",
    "plt.ylim([-0.1,0.5])"
   ]
  }
 ],
 "metadata": {
  "kernelspec": {
   "display_name": "pnnl",
   "language": "python",
   "name": "pnnl"
  },
  "language_info": {
   "codemirror_mode": {
    "name": "ipython",
    "version": 2
   },
   "file_extension": ".py",
   "mimetype": "text/x-python",
   "name": "python",
   "nbconvert_exporter": "python",
   "pygments_lexer": "ipython2",
   "version": "2.7.13"
  }
 },
 "nbformat": 4,
 "nbformat_minor": 2
}
